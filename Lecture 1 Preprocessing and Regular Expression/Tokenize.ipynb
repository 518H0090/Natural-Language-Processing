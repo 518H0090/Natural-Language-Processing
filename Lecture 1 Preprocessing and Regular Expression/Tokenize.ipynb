{
 "cells": [
  {
   "cell_type": "code",
   "execution_count": null,
   "metadata": {},
   "outputs": [],
   "source": [
    "\"\"\"\n",
    "1) Write a program for sentence splitter and token splitter, using regular expression.\n",
    "2) Write functions to check whether a token/word has form of website, date, number, float, containing mix of characters and decimals, containing characters only.\n",
    "3) Do statistics on tokens from a given text: list different tokens and their frequency. \n",
    "\"\"\""
   ]
  },
  {
   "cell_type": "code",
   "execution_count": 44,
   "metadata": {},
   "outputs": [],
   "source": [
    "import re"
   ]
  },
  {
   "cell_type": "code",
   "execution_count": 45,
   "metadata": {},
   "outputs": [],
   "source": [
    "inputs = 'Hai khu chung cư nằm trong khu vực \"phố chung cư\" ở Đà Nẵng\". Các ca dương tính ghi nhận tại đây gồm \"bệnh nhân 849, 853, 780, 781, 797 và 802\". Từ 25/7 đến nay, Đà Nẵng đã ghi nhận 296 người mắc nCoV. Thành phố đang tiếp tục áp dụng cách ly xã hội theo chỉ thỉ 16 để khoanh vùng, dập dịch.'"
   ]
  },
  {
   "cell_type": "code",
   "execution_count": 46,
   "metadata": {},
   "outputs": [
    {
     "name": "stdout",
     "output_type": "stream",
     "text": [
      "Hai khu chung cư nằm trong khu vực \"phố chung cư\" ở Đà Nẵng\". Các ca dương tính ghi nhận tại đây gồm \"bệnh nhân 849, 853, 780, 781, 797 và 802\". Từ 25/7 đến nay, Đà Nẵng đã ghi nhận 296 người mắc nCoV. Thành phố đang tiếp tục áp dụng cách ly xã hội theo chỉ thỉ 16 để khoanh vùng, dập dịch.\n"
     ]
    }
   ],
   "source": [
    "print(inputs)"
   ]
  },
  {
   "cell_type": "code",
   "execution_count": 47,
   "metadata": {},
   "outputs": [
    {
     "name": "stdout",
     "output_type": "stream",
     "text": [
      "1 Hai khu chung cư nằm trong khu vực \"phố chung cư\" ở Đà Nẵng\".\n",
      "2  \n",
      "3 Các ca dương tính ghi nhận tại đây gồm \"bệnh nhân 849, 853, 780, 781, 797 và 802\".\n",
      "4  \n",
      "5 Từ 25/7 đến nay, Đà Nẵng đã ghi nhận 296 người mắc nCoV.\n",
      "6  \n",
      "7 Thành phố đang tiếp tục áp dụng cách ly xã hội theo chỉ thỉ 16 để khoanh vùng, dập dịch.\n"
     ]
    }
   ],
   "source": [
    "# Question 1\n",
    "pattern = r'(?<!\\w\\.\\w.)(?<![A-Z][a-z]\\.)(?<=\\.|\\?)(\\s|[A-Z].*)'\n",
    "sents = re.split(pattern, inputs)\n",
    "for idx, sent in enumerate(sents):\n",
    "    if(sent!=''):\n",
    "        print(idx+1,sent)"
   ]
  },
  {
   "cell_type": "code",
   "execution_count": 50,
   "metadata": {},
   "outputs": [
    {
     "name": "stdout",
     "output_type": "stream",
     "text": [
      "[]\n"
     ]
    }
   ],
   "source": [
    "#Question 2\n",
    "def extract_date(url):\n",
    "        return re.findall(r'/(\\d{4})/(\\d{1,2})/(\\d{1,2})/', url)\n",
    "url1= \"https://www.washingtonpost.com/news/football-insider/wp/2016/09/02/odell-beckhams-fame-rests-on-one-stupid-little-ball-josh-norman-tells-author/\"\n",
    "print(extract_date(inputs))"
   ]
  },
  {
   "cell_type": "code",
   "execution_count": 49,
   "metadata": {},
   "outputs": [
    {
     "data": {
      "text/plain": [
       "Counter({'hai': 1,\n",
       "         'khu': 2,\n",
       "         'chung': 2,\n",
       "         'cư': 2,\n",
       "         'nằm': 1,\n",
       "         'trong': 1,\n",
       "         'vực': 1,\n",
       "         'phố': 2,\n",
       "         'ở': 1,\n",
       "         'đà': 2,\n",
       "         'nẵng': 2,\n",
       "         'các': 1,\n",
       "         'ca': 1,\n",
       "         'dương': 1,\n",
       "         'tính': 1,\n",
       "         'ghi': 2,\n",
       "         'nhận': 2,\n",
       "         'tại': 1,\n",
       "         'đây': 1,\n",
       "         'gồm': 1,\n",
       "         'bệnh': 1,\n",
       "         'nhân': 1,\n",
       "         '849': 1,\n",
       "         '853': 1,\n",
       "         '780': 1,\n",
       "         '781': 1,\n",
       "         '797': 1,\n",
       "         'và': 1,\n",
       "         '802': 1,\n",
       "         'từ': 1,\n",
       "         '25/7': 1,\n",
       "         'đến': 1,\n",
       "         'nay': 1,\n",
       "         'đã': 1,\n",
       "         '296': 1,\n",
       "         'người': 1,\n",
       "         'mắc': 1,\n",
       "         'ncov': 1,\n",
       "         'thành': 1,\n",
       "         'đang': 1,\n",
       "         'tiếp': 1,\n",
       "         'tục': 1,\n",
       "         'áp': 1,\n",
       "         'dụng': 1,\n",
       "         'cách': 1,\n",
       "         'ly': 1,\n",
       "         'xã': 1,\n",
       "         'hội': 1,\n",
       "         'theo': 1,\n",
       "         'chỉ': 1,\n",
       "         'thỉ': 1,\n",
       "         '16': 1,\n",
       "         'để': 1,\n",
       "         'khoanh': 1,\n",
       "         'vùng': 1,\n",
       "         'dập': 1,\n",
       "         'dịch': 1})"
      ]
     },
     "execution_count": 49,
     "metadata": {},
     "output_type": "execute_result"
    }
   ],
   "source": [
    "#Question 3\n",
    "import collections\n",
    "\n",
    "def count_words(text):\n",
    "    lowerText=text.lower()\n",
    "    \n",
    "    split =re.split(\"[ .,!?:;'\\\"\\-]+\" ,lowerText)\n",
    "    return collections.Counter(filter(None,split))\n",
    "count_words(inputs)"
   ]
  }
 ],
 "metadata": {
  "kernelspec": {
   "display_name": "Python 3",
   "language": "python",
   "name": "python3"
  },
  "language_info": {
   "codemirror_mode": {
    "name": "ipython",
    "version": 3
   },
   "file_extension": ".py",
   "mimetype": "text/x-python",
   "name": "python",
   "nbconvert_exporter": "python",
   "pygments_lexer": "ipython3",
   "version": "3.7.3"
  }
 },
 "nbformat": 4,
 "nbformat_minor": 2
}
