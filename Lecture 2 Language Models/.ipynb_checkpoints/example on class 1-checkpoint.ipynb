{
 "cells": [
  {
   "cell_type": "code",
   "execution_count": 3,
   "metadata": {},
   "outputs": [],
   "source": [
    "import nltk\n",
    "#pip install nltk "
   ]
  },
  {
   "cell_type": "code",
   "execution_count": 4,
   "metadata": {},
   "outputs": [],
   "source": [
    "s = []\n",
    "s.append('cô ấy dạy môn tin học')\n",
    "s.append( 'anh dạy môn toán')\n",
    "s.append('cô ấy học toán anh ấy dạy') \n",
    "s.append('môn toán môn tin đều hay')\n",
    "s.append('anh ấy dạy môn toán hay môn tin')"
   ]
  },
  {
   "cell_type": "code",
   "execution_count": 11,
   "metadata": {},
   "outputs": [
    {
     "name": "stdout",
     "output_type": "stream",
     "text": [
      "{'cô': 2, 'ấy': 4, 'dạy': 4, 'môn': 6, 'tin': 3, 'học': 2, 'anh': 3, 'toán': 4, 'đều': 1, 'hay': 2}\n",
      "31\n"
     ]
    }
   ],
   "source": [
    "unigram_dict={}\n",
    "#words = nltk.word_tokenize(s[0])\n",
    "#print(words)\n",
    "total_count = 0\n",
    "for sent in s:\n",
    "    words = nltk.word_tokenize(sent)\n",
    "    total_count += len(words)\n",
    "    for w in words:\n",
    "        if w in unigram_dict.keys():\n",
    "            unigram_dict[w] += 1\n",
    "        else:\n",
    "            unigram_dict[w] = 1\n",
    "\n",
    "print(unigram_dict)\n",
    "print(total_count)"
   ]
  },
  {
   "cell_type": "code",
   "execution_count": 13,
   "metadata": {},
   "outputs": [
    {
     "name": "stdout",
     "output_type": "stream",
     "text": [
      "P(môn)= 0.1935483870967742\n"
     ]
    }
   ],
   "source": [
    "print('P(môn)=',unigram_dict['môn']/total_count)"
   ]
  },
  {
   "cell_type": "code",
   "execution_count": 15,
   "metadata": {},
   "outputs": [
    {
     "name": "stdout",
     "output_type": "stream",
     "text": [
      "1.5089514879431807e-05\n"
     ]
    }
   ],
   "source": [
    "input_sent = 'anh dạy môn tin học'\n",
    "words = nltk.word_tokenize(input_sent)\n",
    "p = 1\n",
    "for w in words:\n",
    "    if w in unigram_dict.keys():\n",
    "        p *= unigram_dict[w]/total_count\n",
    "    else:\n",
    "        p = 0\n",
    "        break\n",
    "print(p)"
   ]
  },
  {
   "cell_type": "code",
   "execution_count": 17,
   "metadata": {},
   "outputs": [
    {
     "name": "stdout",
     "output_type": "stream",
     "text": [
      "{'<s>_cô': 2, 'cô_ấy': 2, 'ấy_dạy': 3, 'dạy_môn': 3, 'môn_tin': 3, 'tin_học': 1, '<s>_anh': 2, 'anh_dạy': 1, 'môn_toán': 3, 'ấy_học': 1, 'học_toán': 1, 'toán_anh': 1, 'anh_ấy': 2, '<s>_môn': 1, 'toán_môn': 1, 'tin_đều': 1, 'đều_hay': 1, 'toán_hay': 1, 'hay_môn': 1}\n"
     ]
    }
   ],
   "source": [
    "# lấy 2 gram \n",
    "bigram_dict={}\n",
    "for sent in s:\n",
    "    words = nltk.word_tokenize(sent)\n",
    "    for i in range(len(words)):\n",
    "        if i==0:\n",
    "            gram='<s>_'+words[i]\n",
    "        else:\n",
    "            gram=words[i-1]+'_'+words[i]\n",
    "        \n",
    "        if gram in bigram_dict.keys():\n",
    "            bigram_dict[gram] += 1\n",
    "        else:\n",
    "            bigram_dict[gram] = 1\n",
    "print(bigram_dict)"
   ]
  },
  {
   "cell_type": "code",
   "execution_count": 21,
   "metadata": {},
   "outputs": [
    {
     "name": "stdout",
     "output_type": "stream",
     "text": [
      "0.016666666666666666\n"
     ]
    }
   ],
   "source": [
    "input_sent = 'anh dạy môn tin học'\n",
    "words = nltk.word_tokenize(input_sent)\n",
    "p = 1\n",
    "for i in range(len(words)):\n",
    "    if i==0:\n",
    "        bigram='<s>_'+words[i]\n",
    "        unigram_count=len(s)\n",
    "    else:\n",
    "        bigram=words[i-1]+'_'+words[i]\n",
    "        unigram_count = unigram_dict[words[i-1]]\n",
    "    \n",
    "    if bigram in bigram_dict.keys():\n",
    "        p *= bigram_dict[bigram]/unigram_count\n",
    "    else:\n",
    "        p = 0\n",
    "        break\n",
    "\n",
    "    \n",
    "    \n",
    "print(p)"
   ]
  },
  {
   "cell_type": "code",
   "execution_count": null,
   "metadata": {},
   "outputs": [],
   "source": []
  }
 ],
 "metadata": {
  "kernelspec": {
   "display_name": "Python 3",
   "language": "python",
   "name": "python3"
  },
  "language_info": {
   "codemirror_mode": {
    "name": "ipython",
    "version": 3
   },
   "file_extension": ".py",
   "mimetype": "text/x-python",
   "name": "python",
   "nbconvert_exporter": "python",
   "pygments_lexer": "ipython3",
   "version": "3.8.3"
  }
 },
 "nbformat": 4,
 "nbformat_minor": 2
}
