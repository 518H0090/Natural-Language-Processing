{
 "cells": [
  {
   "cell_type": "code",
   "execution_count": null,
   "metadata": {},
   "outputs": [],
   "source": [
    "import nltk\n",
    "nltk.download('punkt')"
   ]
  },
  {
   "cell_type": "code",
   "execution_count": null,
   "metadata": {},
   "outputs": [],
   "source": []
  },
  {
   "cell_type": "code",
   "execution_count": 32,
   "metadata": {},
   "outputs": [
    {
     "name": "stdout",
     "output_type": "stream",
     "text": [
      "16382\n"
     ]
    }
   ],
   "source": [
    "filename = 'train.txt'\n",
    "with open(filename,encoding=\"utf8\") as f:\n",
    "    lines = f.readlines()\n",
    "print(len(lines))"
   ]
  },
  {
   "cell_type": "code",
   "execution_count": null,
   "metadata": {},
   "outputs": [],
   "source": [
    "# Xây dựng mô hình ngôn ngữ 1-gram\n",
    "unigram_dict={}\n",
    "total_count = 0\n",
    "for sent in lines:\n",
    "    words = nltk.word_tokenize(sent)\n",
    "    total_count += len(words)\n",
    "    for w in words:\n",
    "        if w in unigram_dict.keys():\n",
    "            unigram_dict[w] += 1\n",
    "        else:\n",
    "            unigram_dict[w] = 1\n",
    "\n",
    "print(unigram_dict)"
   ]
  },
  {
   "cell_type": "code",
   "execution_count": null,
   "metadata": {},
   "outputs": [],
   "source": [
    "# Xây dựng mô hình ngôn ngữ 2-gram\n",
    "bigram_dict={}\n",
    "for sent in lines:\n",
    "    words = nltk.word_tokenize(sent)\n",
    "    for i in range(len(words)):\n",
    "        if i==0:\n",
    "            gram='<s>_'+words[i]\n",
    "        else:\n",
    "            gram=words[i-1]+'_'+words[i]\n",
    "        \n",
    "        if gram in bigram_dict.keys():\n",
    "            bigram_dict[gram] += 1\n",
    "        else:\n",
    "            bigram_dict[gram] = 1\n",
    "print(bigram_dict)"
   ]
  },
  {
   "cell_type": "code",
   "execution_count": null,
   "metadata": {},
   "outputs": [],
   "source": [
    "# Xây dựng mô hình ngôn ngữ 3-gram\n",
    "trigram_dict={}\n",
    "for sent in lines:\n",
    "    words = nltk.word_tokenize(sent)\n",
    "    for i in range(len(words)):\n",
    "        if i==0:\n",
    "            gram='<s>_'+words[i]\n",
    "        elif i == 1:\n",
    "            gram=words[i-1]+'_'+words[i]\n",
    "        else:\n",
    "            gram=words[i-2]+'_'+words[i-1]+'_'+words[i]\n",
    "        \n",
    "        if gram in trigram_dict.keys():\n",
    "            trigram_dict[gram] += 1\n",
    "        else:\n",
    "            trigram_dict[gram] = 1\n",
    "print(trigram_dict)"
   ]
  }
 ],
 "metadata": {
  "kernelspec": {
   "display_name": "Python 3",
   "language": "python",
   "name": "python3"
  },
  "language_info": {
   "codemirror_mode": {
    "name": "ipython",
    "version": 3
   },
   "file_extension": ".py",
   "mimetype": "text/x-python",
   "name": "python",
   "nbconvert_exporter": "python",
   "pygments_lexer": "ipython3",
   "version": "3.8.3"
  }
 },
 "nbformat": 4,
 "nbformat_minor": 4
}
