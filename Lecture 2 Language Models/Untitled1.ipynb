{
 "cells": [
  {
   "cell_type": "code",
   "execution_count": 4,
   "metadata": {},
   "outputs": [],
   "source": [
    "def get_proba(current_word, next_word):\n",
    "  if current_word not in lm:\n",
    "    return 1 / total_word;\n",
    "  if next_word not in lm[current_word]['next']:\n",
    "    return 1 / (lm[current_word]['sum'] + vocab_size)\n",
    "  return (lm[current_word]['next'][next_word] + 1) / (lm[current_word]['sum'] + vocab_size)"
   ]
  },
  {
   "cell_type": "code",
   "execution_count": 5,
   "metadata": {},
   "outputs": [],
   "source": [
    "# hàm beam search\n",
    "def beam_search(words, k):\n",
    "  sequences = []\n",
    "  for idx, word in enumerate(words):\n",
    "    if idx == 0:\n",
    "      sequences = [([x], 0.0) for x in map_accents.get(word, [word])]\n",
    "    else:\n",
    "      all_sequences = []\n",
    "      for seq in sequences:\n",
    "        for next_word in map_accents.get(word, [word]):\n",
    "          current_word = seq[0][-1]\n",
    "          proba = get_proba(current_word, next_word)\n",
    "          # print(current_word, next_word, proba, log(proba))\n",
    "          proba = log(proba)\n",
    "          new_seq = seq[0].copy()\n",
    "          new_seq.append(next_word)\n",
    "          all_sequences.append((new_seq, seq[1] + proba))\n",
    "      # sắp xếp và lấy k kết quả ngon nhất\n",
    "      all_sequences = sorted(all_sequences,key=lambda x: x[1], reverse=True)\n",
    "      sequences = all_sequences[:k]\n",
    "  return sequences"
   ]
  },
  {
   "cell_type": "code",
   "execution_count": 6,
   "metadata": {},
   "outputs": [
    {
     "output_type": "error",
     "ename": "NameError",
     "evalue": "name 'preprocess' is not defined",
     "traceback": [
      "\u001b[1;31m---------------------------------------------------------------------------\u001b[0m",
      "\u001b[1;31mNameError\u001b[0m                                 Traceback (most recent call last)",
      "\u001b[1;32m<ipython-input-6-9569c680d6ce>\u001b[0m in \u001b[0;36m<module>\u001b[1;34m\u001b[0m\n\u001b[0;32m      1\u001b[0m \u001b[0msentence\u001b[0m \u001b[1;33m=\u001b[0m \u001b[1;34m\"Chào mừng các bạn đến với blog lập trình\"\u001b[0m\u001b[1;33m\u001b[0m\u001b[1;33m\u001b[0m\u001b[0m\n\u001b[1;32m----> 2\u001b[1;33m \u001b[0msentence\u001b[0m \u001b[1;33m=\u001b[0m \u001b[0mpreprocess\u001b[0m\u001b[1;33m(\u001b[0m\u001b[0msentence\u001b[0m\u001b[1;33m)\u001b[0m\u001b[1;33m\u001b[0m\u001b[1;33m\u001b[0m\u001b[0m\n\u001b[0m\u001b[0;32m      3\u001b[0m \u001b[0m_sentence\u001b[0m \u001b[1;33m=\u001b[0m \u001b[0mremove_vn_accent\u001b[0m\u001b[1;33m(\u001b[0m\u001b[0msentence\u001b[0m\u001b[1;33m)\u001b[0m\u001b[1;33m\u001b[0m\u001b[1;33m\u001b[0m\u001b[0m\n\u001b[0;32m      4\u001b[0m \u001b[0mwords\u001b[0m \u001b[1;33m=\u001b[0m \u001b[0m_sentence\u001b[0m\u001b[1;33m.\u001b[0m\u001b[0msplit\u001b[0m\u001b[1;33m(\u001b[0m\u001b[1;33m)\u001b[0m\u001b[1;33m\u001b[0m\u001b[1;33m\u001b[0m\u001b[0m\n\u001b[0;32m      5\u001b[0m \u001b[0mresults\u001b[0m \u001b[1;33m=\u001b[0m \u001b[0mbeam_search\u001b[0m\u001b[1;33m(\u001b[0m\u001b[0mwords\u001b[0m\u001b[1;33m,\u001b[0m\u001b[0mk\u001b[0m \u001b[1;33m=\u001b[0m \u001b[1;36m5\u001b[0m\u001b[1;33m)\u001b[0m\u001b[1;33m\u001b[0m\u001b[1;33m\u001b[0m\u001b[0m\n",
      "\u001b[1;31mNameError\u001b[0m: name 'preprocess' is not defined"
     ]
    }
   ],
   "source": [
    "sentence = \"Chào mừng các bạn đến với blog lập trình\"\n",
    "sentence = preprocess(sentence)\n",
    "_sentence = remove_vn_accent(sentence)\n",
    "words = _sentence.split()\n",
    "results = beam_search(words,k = 5)\n",
    "print('INP', sentence)\n",
    "print('OUT',' '.join(results[0][0]))\n",
    "print('CMP',' '.join(results[0][0]== sentence))"
   ]
  }
 ],
 "metadata": {
  "kernelspec": {
   "display_name": "Python 3",
   "language": "python",
   "name": "python3"
  },
  "language_info": {
   "codemirror_mode": {
    "name": "ipython",
    "version": 3
   },
   "file_extension": ".py",
   "mimetype": "text/x-python",
   "name": "python",
   "nbconvert_exporter": "python",
   "pygments_lexer": "ipython3",
   "version": "3.8.3-final"
  }
 },
 "nbformat": 4,
 "nbformat_minor": 4
}