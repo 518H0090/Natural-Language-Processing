{
 "cells": [
  {
   "cell_type": "code",
   "execution_count": 1,
   "metadata": {},
   "outputs": [],
   "source": [
    "import nltk"
   ]
  },
  {
   "cell_type": "code",
   "execution_count": 2,
   "metadata": {},
   "outputs": [
    {
     "output_type": "stream",
     "name": "stdout",
     "text": [
      "9797\n"
     ]
    }
   ],
   "source": [
    "filename = 'train.txt'\n",
    "with open(filename,encoding=\"utf8\") as f:\n",
    "    lines = f.readlines()\n",
    "print(len(lines))"
   ]
  },
  {
   "cell_type": "code",
   "execution_count": 3,
   "metadata": {},
   "outputs": [
    {
     "output_type": "stream",
     "name": "stdout",
     "text": [
      "76490\n[(',_and', 1220), ('of_the', 858), ('in_the', 791), (',_I', 564), (',_the', 541), (',_we', 527), (\"it_'s\", 464), (',_but', 417), (',_it', 351), ('to_the', 337)]\n"
     ]
    }
   ],
   "source": [
    "# tính 2-gram và tần suất \n",
    "from nltk import ngrams\n",
    "from collections import Counter\n",
    "\n",
    "bi_counter = Counter()\n",
    "for sent in lines:\n",
    "    words = nltk.word_tokenize(sent)\n",
    "    gram2=ngrams(words,2)\n",
    "    join_grams = ['_'.join(list(gram)) for gram in gram2]\n",
    "    bi_counter.update(join_grams)\n",
    "\n",
    "print(len(bi_counter))\n",
    "#in thử một số \n",
    "print(bi_counter.most_common(10))"
   ]
  },
  {
   "cell_type": "code",
   "execution_count": 4,
   "metadata": {},
   "outputs": [
    {
     "output_type": "stream",
     "name": "stdout",
     "text": [
      "('this', 'is', 'a')\nthis_is_a\n('is', 'a', 'foo')\nis_a_foo\n('a', 'foo', 'bar')\na_foo_bar\n('foo', 'bar', 'sentences')\nfoo_bar_sentences\n('bar', 'sentences', 'and')\nbar_sentences_and\n('sentences', 'and', 'i')\nsentences_and_i\n('and', 'i', 'want')\nand_i_want\n('i', 'want', 'to')\ni_want_to\n('want', 'to', 'ngramize')\nwant_to_ngramize\n('to', 'ngramize', 'it')\nto_ngramize_it\n"
     ]
    }
   ],
   "source": [
    "# ví dụ extract ngrams\n",
    "from nltk import ngrams\n",
    "sentence = 'this is a foo bar sentences and i want to ngramize it'\n",
    "n = 3\n",
    "sixgrams = ngrams(sentence.split(), n)\n",
    "for grams in sixgrams:\n",
    "    print(grams)\n",
    "    a = list(grams)\n",
    "    print('_'.join(a))\n",
    "    "
   ]
  },
  {
   "cell_type": "code",
   "execution_count": 5,
   "metadata": {},
   "outputs": [
    {
     "output_type": "stream",
     "name": "stdout",
     "text": [
      "['there', 'is', 'a', 'cat', 'and', 'a', 'dog', 'but', 'I', 'like', 'the', 'dog']\nCounter({'a': 2, 'dog': 2, 'there': 1, 'is': 1, 'cat': 1, 'and': 1, 'but': 1, 'I': 1, 'like': 1, 'the': 1})\n"
     ]
    }
   ],
   "source": [
    "# ví dụ về counter\n",
    "from collections import Counter\n",
    "sentence = 'there is a cat and a dog but I like the dog'\n",
    "words = sentence.split()\n",
    "print(words)\n",
    "\n",
    "count = Counter()\n",
    "count.update(words)\n",
    "print(count)"
   ]
  },
  {
   "cell_type": "code",
   "execution_count": null,
   "metadata": {},
   "outputs": [],
   "source": []
  },
  {
   "cell_type": "code",
   "execution_count": null,
   "metadata": {},
   "outputs": [],
   "source": []
  }
 ],
 "metadata": {
  "kernelspec": {
   "display_name": "Python 3",
   "language": "python",
   "name": "python3"
  },
  "language_info": {
   "codemirror_mode": {
    "name": "ipython",
    "version": 3
   },
   "file_extension": ".py",
   "mimetype": "text/x-python",
   "name": "python",
   "nbconvert_exporter": "python",
   "pygments_lexer": "ipython3",
   "version": "3.8.3-final"
  }
 },
 "nbformat": 4,
 "nbformat_minor": 2
}