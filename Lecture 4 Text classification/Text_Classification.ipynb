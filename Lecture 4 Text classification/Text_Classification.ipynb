{
  "nbformat": 4,
  "nbformat_minor": 0,
  "metadata": {
    "kernelspec": {
      "display_name": "Python 3",
      "language": "python",
      "name": "python3"
    },
    "language_info": {
      "codemirror_mode": {
        "name": "ipython",
        "version": 3
      },
      "file_extension": ".py",
      "mimetype": "text/x-python",
      "name": "python",
      "nbconvert_exporter": "python",
      "pygments_lexer": "ipython3",
      "version": "3.8.3"
    },
    "colab": {
      "name": "Text-Classification.ipynb",
      "provenance": [],
      "collapsed_sections": []
    }
  },
  "cells": [
    {
      "cell_type": "code",
      "metadata": {
        "id": "SbLKtj1cvgJ-"
      },
      "source": [
        "import pandas as pd\n",
        "import nltk \n",
        "import numpy as np"
      ],
      "execution_count": 30,
      "outputs": []
    },
    {
      "cell_type": "code",
      "metadata": {
        "colab": {
          "base_uri": "https://localhost:8080/"
        },
        "id": "PQQ60XLxvgKB",
        "outputId": "e4328fc8-6d06-4f83-af4c-31ff69699d31"
      },
      "source": [
        "!wget https://raw.githubusercontent.com/nthanhkhang/Natural-Language-Processing/main/Lecture%204%20Text%20classification/data/sentimentVN.csv\n",
        "df = pd.read_csv('sentimentVN.csv',encoding = 'utf-8')"
      ],
      "execution_count": 31,
      "outputs": [
        {
          "output_type": "stream",
          "text": [
            "--2021-01-23 15:28:57--  https://raw.githubusercontent.com/nthanhkhang/Natural-Language-Processing/main/Lecture%204%20Text%20classification/data/sentimentVN.csv\n",
            "Resolving raw.githubusercontent.com (raw.githubusercontent.com)... 151.101.0.133, 151.101.64.133, 151.101.128.133, ...\n",
            "Connecting to raw.githubusercontent.com (raw.githubusercontent.com)|151.101.0.133|:443... connected.\n",
            "HTTP request sent, awaiting response... 200 OK\n",
            "Length: 2668560 (2.5M) [text/plain]\n",
            "Saving to: ‘sentimentVN.csv.6’\n",
            "\n",
            "sentimentVN.csv.6   100%[===================>]   2.54M  --.-KB/s    in 0.1s    \n",
            "\n",
            "2021-01-23 15:28:58 (19.8 MB/s) - ‘sentimentVN.csv.6’ saved [2668560/2668560]\n",
            "\n"
          ],
          "name": "stdout"
        }
      ]
    },
    {
      "cell_type": "code",
      "metadata": {
        "colab": {
          "base_uri": "https://localhost:8080/",
          "height": 371
        },
        "id": "EevILTDovgKD",
        "outputId": "0b62242b-d3f3-4735-e811-bcf07a82c6d1"
      },
      "source": [
        "print(data[:10])"
      ],
      "execution_count": 62,
      "outputs": [
        {
          "output_type": "stream",
          "text": [
            "<class 'pandas.core.frame.DataFrame'>\n",
            "RangeIndex: 31460 entries, 0 to 31459\n",
            "Data columns (total 3 columns):\n",
            " #   Column      Non-Null Count  Dtype \n",
            "---  ------      --------------  ----- \n",
            " 0   Unnamed: 0  31460 non-null  int64 \n",
            " 1   comment     31435 non-null  object\n",
            " 2   label       31460 non-null  object\n",
            "dtypes: int64(1), object(2)\n",
            "memory usage: 737.5+ KB\n"
          ],
          "name": "stdout"
        },
        {
          "output_type": "execute_result",
          "data": {
            "text/html": [
              "<div>\n",
              "<style scoped>\n",
              "    .dataframe tbody tr th:only-of-type {\n",
              "        vertical-align: middle;\n",
              "    }\n",
              "\n",
              "    .dataframe tbody tr th {\n",
              "        vertical-align: top;\n",
              "    }\n",
              "\n",
              "    .dataframe thead th {\n",
              "        text-align: right;\n",
              "    }\n",
              "</style>\n",
              "<table border=\"1\" class=\"dataframe\">\n",
              "  <thead>\n",
              "    <tr style=\"text-align: right;\">\n",
              "      <th></th>\n",
              "      <th>Unnamed: 0</th>\n",
              "      <th>comment</th>\n",
              "      <th>label</th>\n",
              "    </tr>\n",
              "  </thead>\n",
              "  <tbody>\n",
              "    <tr>\n",
              "      <th>0</th>\n",
              "      <td>0</td>\n",
              "      <td>áo bao đẹp ạ positive</td>\n",
              "      <td>POS</td>\n",
              "    </tr>\n",
              "    <tr>\n",
              "      <th>1</th>\n",
              "      <td>1</td>\n",
              "      <td>tuyệt vời positive</td>\n",
              "      <td>POS</td>\n",
              "    </tr>\n",
              "    <tr>\n",
              "      <th>2</th>\n",
              "      <td>2</td>\n",
              "      <td>2day ao không giong trong</td>\n",
              "      <td>NEG</td>\n",
              "    </tr>\n",
              "    <tr>\n",
              "      <th>3</th>\n",
              "      <td>3</td>\n",
              "      <td>mùi thơm bôi lên da mềm da nagative positive</td>\n",
              "      <td>POS</td>\n",
              "    </tr>\n",
              "    <tr>\n",
              "      <th>4</th>\n",
              "      <td>4</td>\n",
              "      <td>vải đẹp dày dặn positive</td>\n",
              "      <td>POS</td>\n",
              "    </tr>\n",
              "  </tbody>\n",
              "</table>\n",
              "</div>"
            ],
            "text/plain": [
              "   Unnamed: 0                                       comment label\n",
              "0           0                         áo bao đẹp ạ positive   POS\n",
              "1           1                            tuyệt vời positive   POS\n",
              "2           2                     2day ao không giong trong   NEG\n",
              "3           3  mùi thơm bôi lên da mềm da nagative positive   POS\n",
              "4           4                      vải đẹp dày dặn positive   POS"
            ]
          },
          "metadata": {
            "tags": []
          },
          "execution_count": 62
        }
      ]
    },
    {
      "cell_type": "code",
      "metadata": {
        "colab": {
          "base_uri": "https://localhost:8080/"
        },
        "id": "IuPjP8MU6doB",
        "outputId": "83ac3d15-0c10-4763-9eda-e5afa1ea9a8f"
      },
      "source": [
        "lines = data[:,1]\n",
        "labels = data[:,2]\n",
        "print(lines[:5])\n",
        "print(labels[:20])"
      ],
      "execution_count": 73,
      "outputs": [
        {
          "output_type": "stream",
          "text": [
            "['áo bao đẹp ạ positive' 'tuyệt vời positive' '2day ao không giong trong'\n",
            " 'mùi thơm bôi lên da mềm da nagative positive' 'vải đẹp dày dặn positive']\n",
            "['POS' 'POS' 'NEG' 'POS' 'POS' 'POS' 'POS' 'POS' 'POS' 'NEG' 'POS' 'NEU'\n",
            " 'POS' 'POS' 'POS' 'POS' 'POS' 'POS' 'POS' 'NEG']\n"
          ],
          "name": "stdout"
        }
      ]
    },
    {
      "cell_type": "code",
      "metadata": {
        "colab": {
          "base_uri": "https://localhost:8080/"
        },
        "id": "8sbES2HH4NfA",
        "outputId": "5e3daef8-1c1d-4385-a578-c8c49d99326e"
      },
      "source": [
        "nltk.download('stopwords')\n",
        "nltk.download('punkt')\n",
        "from nltk.corpus import stopwords\n",
        "def remove_stop_words(words):\n",
        "    result = [i for i in words if i not in stopwords.words('english')]\n",
        "    return result"
      ],
      "execution_count": 53,
      "outputs": [
        {
          "output_type": "stream",
          "text": [
            "[nltk_data] Downloading package stopwords to /root/nltk_data...\n",
            "[nltk_data]   Package stopwords is already up-to-date!\n",
            "[nltk_data] Downloading package punkt to /root/nltk_data...\n",
            "[nltk_data]   Package punkt is already up-to-date!\n"
          ],
          "name": "stdout"
        }
      ]
    },
    {
      "cell_type": "code",
      "metadata": {
        "colab": {
          "base_uri": "https://localhost:8080/"
        },
        "id": "dKYHTcki4UvZ",
        "outputId": "2a5d9859-35c0-4e1b-d616-226f154591d4"
      },
      "source": [
        "lines= ['Khang đẹp trai nhất vũ trụ']\n",
        "sentences = [nltk.word_tokenize(sent) for sent in lines]\n",
        "print(sentences)"
      ],
      "execution_count": 77,
      "outputs": [
        {
          "output_type": "stream",
          "text": [
            "[['Khang', 'đẹp', 'trai', 'nhất', 'vũ', 'trụ']]\n"
          ],
          "name": "stdout"
        }
      ]
    }
  ]
}