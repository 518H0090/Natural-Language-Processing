{
 "cells": [
  {
   "cell_type": "code",
   "execution_count": null,
   "metadata": {},
   "outputs": [],
   "source": [
    "import pandas as pd\n",
    "import keras\n",
    "df = pd.read_csv('spam.csv',encoding = \"ISO-8859-1\")\n",
    "df.head()"
   ]
  },
  {
   "cell_type": "code",
   "execution_count": 3,
   "metadata": {},
   "outputs": [
    {
     "output_type": "stream",
     "name": "stdout",
     "text": [
      "        v1                                                 v2    v3  \\\n0      ham  Go until jurong point, crazy.. Available only ...   NaN   \n1      ham                      Ok lar... Joking wif u oni...   NaN   \n2     spam  Free entry in 2 a wkly comp to win FA Cup fina...   NaN   \n3      ham  U dun say so early hor... U c already then say...   NaN   \n4      ham  Nah I don't think he goes to usf, he lives aro...   NaN   \n5     spam  FreeMsg Hey there darling it's been 3 week's n...   NaN   \n6      ham  Even my brother is not like to speak with me. ...   NaN   \n7      ham  As per your request 'Melle Melle (Oru Minnamin...   NaN   \n8     spam  WINNER!! As a valued network customer you have...   NaN   \n9     spam  Had your mobile 11 months or more? U R entitle...   NaN   \n10     ham  I'm gonna be home soon and i don't want to tal...   NaN   \n11    spam  SIX chances to win CASH! From 100 to 20,000 po...   NaN   \n12    spam  URGENT! You have won a 1 week FREE membership ...   NaN   \n13     ham  I've been searching for the right words to tha...   NaN   \n14     ham                I HAVE A DATE ON SUNDAY WITH WILL!!   NaN   \n15    spam  XXXMobileMovieClub: To use your credit, click ...   NaN   \n16     ham                         Oh k...i'm watching here:)   NaN   \n17     ham  Eh u remember how 2 spell his name... Yes i di...   NaN   \n18     ham  Fine if thatï¿½ï¿½s the way u feel. Thatï¿½ï¿½...   NaN   \n19    spam  England v Macedonia - dont miss the goals/team...   NaN   \n20     ham          Is that seriously how you spell his name?   NaN   \n21     ham  Iï¿½ï¿½ï¿½m going to try for 2 months ha ha on...   NaN   \n22     ham  So ï¿½_ pay first lar... Then when is da stock...   NaN   \n23     ham  Aft i finish my lunch then i go str down lor. ...   NaN   \n24     ham  Ffffffffff. Alright no way I can meet up with ...   NaN   \n25     ham  Just forced myself to eat a slice. I'm really ...   NaN   \n26     ham                     Lol your always so convincing.   NaN   \n27     ham  Did you catch the bus ? Are you frying an egg ...   NaN   \n28     ham  I'm back &amp; we're packing the car now, I'll...   NaN   \n29     ham  Ahhh. Work. I vaguely remember that! What does...   NaN   \n...    ...                                                ...   ...   \n5542   ham           Armand says get your ass over to epsilon   NaN   \n5543   ham             U still havent got urself a jacket ah?   NaN   \n5544   ham  I'm taking derek &amp; taylor to walmart, if I...   NaN   \n5545   ham      Hi its in durban are you still on this number   NaN   \n5546   ham         Ic. There are a lotta childporn cars then.   NaN   \n5547  spam  Had your contract mobile 11 Mnths? Latest Moto...   NaN   \n5548   ham                 No, I was trying it all weekend ;V   NaN   \n5549   ham  You know, wot people wear. T shirts, jumpers, ...   NaN   \n5550   ham        Cool, what time you think you can get here?   NaN   \n5551   ham  Wen did you get so spiritual and deep. That's ...   NaN   \n5552   ham  Have a safe trip to Nigeria. Wish you happines...   NaN   \n5553   ham                        Hahaha..use your brain dear   NaN   \n5554   ham  Well keep in mind I've only got enough gas for...   NaN   \n5555   ham  Yeh. Indians was nice. Tho it did kane me off ...   NaN   \n5556   ham  Yes i have. So that's why u texted. Pshew...mi...   NaN   \n5557   ham  No. I meant the calculation is the same. That ...  #&gt   \n5558   ham                             Sorry, I'll call later   NaN   \n5559   ham                if you aren't here in the next  &lt  #&gt   \n5560   ham                  Anything lor. Juz both of us lor.   NaN   \n5561   ham  Get me out of this dump heap. My mom decided t...   NaN   \n5562   ham  Ok lor... Sony ericsson salesman... I ask shuh...   NaN   \n5563   ham                                Ard 6 like dat lor.   NaN   \n5564   ham  Why don't you wait 'til at least wednesday to ...   NaN   \n5565   ham                                       Huh y lei...   NaN   \n5566  spam  REMINDER FROM O2: To get 2.50 pounds free call...   NaN   \n5567  spam  This is the 2nd time we have tried 2 contact u...   NaN   \n5568   ham            Will ï¿½_ b going to esplanade fr home?   NaN   \n5569   ham  Pity, * was in mood for that. So...any other s...   NaN   \n5570   ham  The guy did some bitching but I acted like i'd...   NaN   \n5571   ham                         Rofl. Its true to its name   NaN   \n\n                             v4  v4.1  \\\n0                           NaN   NaN   \n1                           NaN   NaN   \n2                           NaN   NaN   \n3                           NaN   NaN   \n4                           NaN   NaN   \n5                           NaN   NaN   \n6                           NaN   NaN   \n7                           NaN   NaN   \n8                           NaN   NaN   \n9                           NaN   NaN   \n10                          NaN   NaN   \n11                          NaN   NaN   \n12                          NaN   NaN   \n13                          NaN   NaN   \n14                          NaN   NaN   \n15                          NaN   NaN   \n16                          NaN   NaN   \n17                          NaN   NaN   \n18                          NaN   NaN   \n19                          NaN   NaN   \n20                          NaN   NaN   \n21                          NaN   NaN   \n22                          NaN   NaN   \n23                          NaN   NaN   \n24                          NaN   NaN   \n25                          NaN   NaN   \n26                          NaN   NaN   \n27                          NaN   NaN   \n28                          NaN   NaN   \n29                          NaN   NaN   \n...                         ...   ...   \n5542                        NaN   NaN   \n5543                        NaN   NaN   \n5544                        NaN   NaN   \n5545                        NaN   NaN   \n5546                        NaN   NaN   \n5547                        NaN   NaN   \n5548                        NaN   NaN   \n5549                        NaN   NaN   \n5550                        NaN   NaN   \n5551                        NaN   NaN   \n5552                        NaN   NaN   \n5553                        NaN   NaN   \n5554                        NaN   NaN   \n5555                        NaN   NaN   \n5556                        NaN   NaN   \n5557              units at  &lt  #&gt   \n5558                        NaN   NaN   \n5559    hours imma flip my shit   NaN   \n5560                        NaN   NaN   \n5561                        NaN   NaN   \n5562                        NaN   NaN   \n5563                        NaN   NaN   \n5564                        NaN   NaN   \n5565                        NaN   NaN   \n5566                        NaN   NaN   \n5567                        NaN   NaN   \n5568                        NaN   NaN   \n5569                        NaN   NaN   \n5570                        NaN   NaN   \n5571                        NaN   NaN   \n\n                                             Unnamed: 5 Unnamed: 6 Unnamed: 7  \\\n0                                                   NaN        NaN        NaN   \n1                                                   NaN        NaN        NaN   \n2                                                   NaN        NaN        NaN   \n3                                                   NaN        NaN        NaN   \n4                                                   NaN        NaN        NaN   \n5                                                   NaN        NaN        NaN   \n6                                                   NaN        NaN        NaN   \n7                                                   NaN        NaN        NaN   \n8                                                   NaN        NaN        NaN   \n9                                                   NaN        NaN        NaN   \n10                                                  NaN        NaN        NaN   \n11                                                  NaN        NaN        NaN   \n12                                                  NaN        NaN        NaN   \n13                                                  NaN        NaN        NaN   \n14                                                  NaN        NaN        NaN   \n15                                                  NaN        NaN        NaN   \n16                                                  NaN        NaN        NaN   \n17                                                  NaN        NaN        NaN   \n18                                                  NaN        NaN        NaN   \n19                                                  NaN        NaN        NaN   \n20                                                  NaN        NaN        NaN   \n21                                                  NaN        NaN        NaN   \n22                                                  NaN        NaN        NaN   \n23                                                  NaN        NaN        NaN   \n24                                                  NaN        NaN        NaN   \n25                                                  NaN        NaN        NaN   \n26                                                  NaN        NaN        NaN   \n27                                                  NaN        NaN        NaN   \n28                                                  NaN        NaN        NaN   \n29                                                  NaN        NaN        NaN   \n...                                                 ...        ...        ...   \n5542                                                NaN        NaN        NaN   \n5543                                                NaN        NaN        NaN   \n5544                                                NaN        NaN        NaN   \n5545                                                NaN        NaN        NaN   \n5546                                                NaN        NaN        NaN   \n5547                                                NaN        NaN        NaN   \n5548                                                NaN        NaN        NaN   \n5549                                                NaN        NaN        NaN   \n5550                                                NaN        NaN        NaN   \n5551                                                NaN        NaN        NaN   \n5552                                                NaN        NaN        NaN   \n5553                                                NaN        NaN        NaN   \n5554                                                NaN        NaN        NaN   \n5555                                                NaN        NaN        NaN   \n5556                                                NaN        NaN        NaN   \n5557   . This school is really expensive. Have you s...        NaN        NaN   \n5558                                                NaN        NaN        NaN   \n5559                                                NaN        NaN        NaN   \n5560                                                NaN        NaN        NaN   \n5561                                                NaN        NaN        NaN   \n5562                                                NaN        NaN        NaN   \n5563                                                NaN        NaN        NaN   \n5564                                                NaN        NaN        NaN   \n5565                                                NaN        NaN        NaN   \n5566                                                NaN        NaN        NaN   \n5567                                                NaN        NaN        NaN   \n5568                                                NaN        NaN        NaN   \n5569                                                NaN        NaN        NaN   \n5570                                                NaN        NaN        NaN   \n5571                                                NaN        NaN        NaN   \n\n     Unnamed: 8 Unnamed: 9  ... Unnamed: 28 Unnamed: 29 Unnamed: 30  \\\n0           NaN        NaN  ...         NaN         NaN         NaN   \n1           NaN        NaN  ...         NaN         NaN         NaN   \n2           NaN        NaN  ...         NaN         NaN         NaN   \n3           NaN        NaN  ...         NaN         NaN         NaN   \n4           NaN        NaN  ...         NaN         NaN         NaN   \n5           NaN        NaN  ...         NaN         NaN         NaN   \n6           NaN        NaN  ...         NaN         NaN         NaN   \n7           NaN        NaN  ...         NaN         NaN         NaN   \n8           NaN        NaN  ...         NaN         NaN         NaN   \n9           NaN        NaN  ...         NaN         NaN         NaN   \n10          NaN        NaN  ...         NaN         NaN         NaN   \n11          NaN        NaN  ...         NaN         NaN         NaN   \n12          NaN        NaN  ...         NaN         NaN         NaN   \n13          NaN        NaN  ...         NaN         NaN         NaN   \n14          NaN        NaN  ...         NaN         NaN         NaN   \n15          NaN        NaN  ...         NaN         NaN         NaN   \n16          NaN        NaN  ...         NaN         NaN         NaN   \n17          NaN        NaN  ...         NaN         NaN         NaN   \n18          NaN        NaN  ...         NaN         NaN         NaN   \n19          NaN        NaN  ...         NaN         NaN         NaN   \n20          NaN        NaN  ...         NaN         NaN         NaN   \n21          NaN        NaN  ...         NaN         NaN         NaN   \n22          NaN        NaN  ...         NaN         NaN         NaN   \n23          NaN        NaN  ...         NaN         NaN         NaN   \n24          NaN        NaN  ...         NaN         NaN         NaN   \n25          NaN        NaN  ...         NaN         NaN         NaN   \n26          NaN        NaN  ...         NaN         NaN         NaN   \n27          NaN        NaN  ...         NaN         NaN         NaN   \n28          NaN        NaN  ...         NaN         NaN         NaN   \n29          NaN        NaN  ...         NaN         NaN         NaN   \n...         ...        ...  ...         ...         ...         ...   \n5542        NaN        NaN  ...         NaN         NaN         NaN   \n5543        NaN        NaN  ...         NaN         NaN         NaN   \n5544        NaN        NaN  ...         NaN         NaN         NaN   \n5545        NaN        NaN  ...         NaN         NaN         NaN   \n5546        NaN        NaN  ...         NaN         NaN         NaN   \n5547        NaN        NaN  ...         NaN         NaN         NaN   \n5548        NaN        NaN  ...         NaN         NaN         NaN   \n5549        NaN        NaN  ...         NaN         NaN         NaN   \n5550        NaN        NaN  ...         NaN         NaN         NaN   \n5551        NaN        NaN  ...         NaN         NaN         NaN   \n5552        NaN        NaN  ...         NaN         NaN         NaN   \n5553        NaN        NaN  ...         NaN         NaN         NaN   \n5554        NaN        NaN  ...         NaN         NaN         NaN   \n5555        NaN        NaN  ...         NaN         NaN         NaN   \n5556        NaN        NaN  ...         NaN         NaN         NaN   \n5557        NaN        NaN  ...         NaN         NaN         NaN   \n5558        NaN        NaN  ...         NaN         NaN         NaN   \n5559        NaN        NaN  ...         NaN         NaN         NaN   \n5560        NaN        NaN  ...         NaN         NaN         NaN   \n5561        NaN        NaN  ...         NaN         NaN         NaN   \n5562        NaN        NaN  ...         NaN         NaN         NaN   \n5563        NaN        NaN  ...         NaN         NaN         NaN   \n5564        NaN        NaN  ...         NaN         NaN         NaN   \n5565        NaN        NaN  ...         NaN         NaN         NaN   \n5566        NaN        NaN  ...         NaN         NaN         NaN   \n5567        NaN        NaN  ...         NaN         NaN         NaN   \n5568        NaN        NaN  ...         NaN         NaN         NaN   \n5569        NaN        NaN  ...         NaN         NaN         NaN   \n5570        NaN        NaN  ...         NaN         NaN         NaN   \n5571        NaN        NaN  ...         NaN         NaN         NaN   \n\n     Unnamed: 31 Unnamed: 32 Unnamed: 33 Unnamed: 34 Unnamed: 35 Unnamed: 36  \\\n0            NaN         NaN         NaN         NaN         NaN         NaN   \n1            NaN         NaN         NaN         NaN         NaN         NaN   \n2            NaN         NaN         NaN         NaN         NaN         NaN   \n3            NaN         NaN         NaN         NaN         NaN         NaN   \n4            NaN         NaN         NaN         NaN         NaN         NaN   \n5            NaN         NaN         NaN         NaN         NaN         NaN   \n6            NaN         NaN         NaN         NaN         NaN         NaN   \n7            NaN         NaN         NaN         NaN         NaN         NaN   \n8            NaN         NaN         NaN         NaN         NaN         NaN   \n9            NaN         NaN         NaN         NaN         NaN         NaN   \n10           NaN         NaN         NaN         NaN         NaN         NaN   \n11           NaN         NaN         NaN         NaN         NaN         NaN   \n12           NaN         NaN         NaN         NaN         NaN         NaN   \n13           NaN         NaN         NaN         NaN         NaN         NaN   \n14           NaN         NaN         NaN         NaN         NaN         NaN   \n15           NaN         NaN         NaN         NaN         NaN         NaN   \n16           NaN         NaN         NaN         NaN         NaN         NaN   \n17           NaN         NaN         NaN         NaN         NaN         NaN   \n18           NaN         NaN         NaN         NaN         NaN         NaN   \n19           NaN         NaN         NaN         NaN         NaN         NaN   \n20           NaN         NaN         NaN         NaN         NaN         NaN   \n21           NaN         NaN         NaN         NaN         NaN         NaN   \n22           NaN         NaN         NaN         NaN         NaN         NaN   \n23           NaN         NaN         NaN         NaN         NaN         NaN   \n24           NaN         NaN         NaN         NaN         NaN         NaN   \n25           NaN         NaN         NaN         NaN         NaN         NaN   \n26           NaN         NaN         NaN         NaN         NaN         NaN   \n27           NaN         NaN         NaN         NaN         NaN         NaN   \n28           NaN         NaN         NaN         NaN         NaN         NaN   \n29           NaN         NaN         NaN         NaN         NaN         NaN   \n...          ...         ...         ...         ...         ...         ...   \n5542         NaN         NaN         NaN         NaN         NaN         NaN   \n5543         NaN         NaN         NaN         NaN         NaN         NaN   \n5544         NaN         NaN         NaN         NaN         NaN         NaN   \n5545         NaN         NaN         NaN         NaN         NaN         NaN   \n5546         NaN         NaN         NaN         NaN         NaN         NaN   \n5547         NaN         NaN         NaN         NaN         NaN         NaN   \n5548         NaN         NaN         NaN         NaN         NaN         NaN   \n5549         NaN         NaN         NaN         NaN         NaN         NaN   \n5550         NaN         NaN         NaN         NaN         NaN         NaN   \n5551         NaN         NaN         NaN         NaN         NaN         NaN   \n5552         NaN         NaN         NaN         NaN         NaN         NaN   \n5553         NaN         NaN         NaN         NaN         NaN         NaN   \n5554         NaN         NaN         NaN         NaN         NaN         NaN   \n5555         NaN         NaN         NaN         NaN         NaN         NaN   \n5556         NaN         NaN         NaN         NaN         NaN         NaN   \n5557         NaN         NaN         NaN         NaN         NaN         NaN   \n5558         NaN         NaN         NaN         NaN         NaN         NaN   \n5559         NaN         NaN         NaN         NaN         NaN         NaN   \n5560         NaN         NaN         NaN         NaN         NaN         NaN   \n5561         NaN         NaN         NaN         NaN         NaN         NaN   \n5562         NaN         NaN         NaN         NaN         NaN         NaN   \n5563         NaN         NaN         NaN         NaN         NaN         NaN   \n5564         NaN         NaN         NaN         NaN         NaN         NaN   \n5565         NaN         NaN         NaN         NaN         NaN         NaN   \n5566         NaN         NaN         NaN         NaN         NaN         NaN   \n5567         NaN         NaN         NaN         NaN         NaN         NaN   \n5568         NaN         NaN         NaN         NaN         NaN         NaN   \n5569         NaN         NaN         NaN         NaN         NaN         NaN   \n5570         NaN         NaN         NaN         NaN         NaN         NaN   \n5571         NaN         NaN         NaN         NaN         NaN         NaN   \n\n     Unnamed: 37  \n0            NaN  \n1            NaN  \n2            NaN  \n3            NaN  \n4            NaN  \n5            NaN  \n6            NaN  \n7            NaN  \n8            NaN  \n9            NaN  \n10           NaN  \n11           NaN  \n12           NaN  \n13           NaN  \n14           NaN  \n15           NaN  \n16           NaN  \n17           NaN  \n18           NaN  \n19           NaN  \n20           NaN  \n21           NaN  \n22           NaN  \n23           NaN  \n24           NaN  \n25           NaN  \n26           NaN  \n27           NaN  \n28           NaN  \n29           NaN  \n...          ...  \n5542         NaN  \n5543         NaN  \n5544         NaN  \n5545         NaN  \n5546         NaN  \n5547         NaN  \n5548         NaN  \n5549         NaN  \n5550         NaN  \n5551         NaN  \n5552         NaN  \n5553         NaN  \n5554         NaN  \n5555         NaN  \n5556         NaN  \n5557         NaN  \n5558         NaN  \n5559         NaN  \n5560         NaN  \n5561         NaN  \n5562         NaN  \n5563         NaN  \n5564         NaN  \n5565         NaN  \n5566         NaN  \n5567         NaN  \n5568         NaN  \n5569         NaN  \n5570         NaN  \n5571         NaN  \n\n[5572 rows x 38 columns]\n"
     ]
    }
   ],
   "source": [
    "print(df)"
   ]
  },
  {
   "cell_type": "code",
   "execution_count": 4,
   "metadata": {},
   "outputs": [],
   "source": [
    "def to_lower(word):\n",
    "    result = word.lower()\n",
    "    return result"
   ]
  },
  {
   "cell_type": "code",
   "execution_count": 5,
   "metadata": {},
   "outputs": [],
   "source": [
    "def remove_special_characters(word):\n",
    "    result = word.translate(str.maketrans(dict.formkeys(string.punctuation)))\n",
    "    return result"
   ]
  },
  {
   "cell_type": "code",
   "execution_count": 6,
   "metadata": {},
   "outputs": [],
   "source": [
    "def remove_stop_words(words):\n",
    "    result = [i for i in words if i not in ENGLISH_TOP_WORDS]\n",
    "    return result"
   ]
  },
  {
   "cell_type": "code",
   "execution_count": 7,
   "metadata": {},
   "outputs": [],
   "source": [
    "def remove_hyperlink(word):\n",
    "    return re.sub(r\"http\\S\",\"\",word)"
   ]
  },
  {
   "cell_type": "code",
   "execution_count": 8,
   "metadata": {},
   "outputs": [
    {
     "output_type": "stream",
     "name": "stdout",
     "text": [
      "['she is a teacher', 'he is a student and she is also a student', 'my brother is also a teacher', 'teacher and student are in the class']\n"
     ]
    }
   ],
   "source": [
    "import nltk\n",
    "import numpy as np\n",
    "lines = ['she is a teacher','he is a student and she is also a student','my brother is also a teacher','teacher and student are in the class']\n",
    "print(lines)"
   ]
  },
  {
   "cell_type": "code",
   "execution_count": 9,
   "metadata": {},
   "outputs": [
    {
     "output_type": "stream",
     "name": "stderr",
     "text": [
      "[nltk_data] Downloading package punkt to /home/thanhkhang/nltk_data...\n",
      "[nltk_data]   Unzipping tokenizers/punkt.zip.\n",
      "['she', 'said', ':', 'the', 'man', 'is', 'driving', '.']\n"
     ]
    }
   ],
   "source": [
    "# tach1 tu su dung nltk\n",
    "nltk.download('punkt')\n",
    "tokens = nltk.word_tokenize('she said :the man is driving.')\n",
    "print(tokens)"
   ]
  },
  {
   "cell_type": "code",
   "execution_count": 10,
   "metadata": {},
   "outputs": [
    {
     "output_type": "stream",
     "name": "stdout",
     "text": [
      "['she', 'is', 'a', 'teacher']\n['he', 'is', 'a', 'student', 'and', 'she', 'is', 'also', 'a', 'student']\n['my', 'brother', 'is', 'also', 'a', 'teacher']\n['teacher', 'and', 'student', 'are', 'in', 'the', 'class']\n"
     ]
    }
   ],
   "source": [
    "sentences = [nltk.word_tokenize(sent) for sent in lines]\n",
    "for sent in sentences:\n",
    "    print(sent)"
   ]
  },
  {
   "cell_type": "code",
   "execution_count": 11,
   "metadata": {},
   "outputs": [
    {
     "output_type": "error",
     "ename": "ModuleNotFoundError",
     "evalue": "No module named 'keras'",
     "traceback": [
      "\u001b[0;31m---------------------------------------------------------------------------\u001b[0m",
      "\u001b[0;31mModuleNotFoundError\u001b[0m                       Traceback (most recent call last)",
      "\u001b[0;32m<ipython-input-11-ddc4357b3631>\u001b[0m in \u001b[0;36m<module>\u001b[0;34m\u001b[0m\n\u001b[0;32m----> 1\u001b[0;31m \u001b[0;32mfrom\u001b[0m \u001b[0mkeras\u001b[0m\u001b[0;34m.\u001b[0m\u001b[0mpreprocessing\u001b[0m\u001b[0;34m.\u001b[0m\u001b[0mtext\u001b[0m \u001b[0;32mimport\u001b[0m \u001b[0mTokenizer\u001b[0m\u001b[0;34m\u001b[0m\u001b[0;34m\u001b[0m\u001b[0m\n\u001b[0m\u001b[1;32m      2\u001b[0m \u001b[0mtokenizer\u001b[0m \u001b[0;34m=\u001b[0m \u001b[0mTokenizer\u001b[0m\u001b[0;34m(\u001b[0m\u001b[0;34m)\u001b[0m\u001b[0;34m\u001b[0m\u001b[0;34m\u001b[0m\u001b[0m\n\u001b[1;32m      3\u001b[0m \u001b[0mtokenizer\u001b[0m\u001b[0;34m.\u001b[0m\u001b[0mfit_on_texts\u001b[0m\u001b[0;34m(\u001b[0m\u001b[0msentences\u001b[0m\u001b[0;34m)\u001b[0m\u001b[0;34m\u001b[0m\u001b[0;34m\u001b[0m\u001b[0m\n\u001b[1;32m      4\u001b[0m \u001b[0mprint\u001b[0m\u001b[0;34m(\u001b[0m\u001b[0mtokenizer\u001b[0m\u001b[0;34m.\u001b[0m\u001b[0mword_index\u001b[0m\u001b[0;34m)\u001b[0m\u001b[0;34m\u001b[0m\u001b[0;34m\u001b[0m\u001b[0m\n",
      "\u001b[0;31mModuleNotFoundError\u001b[0m: No module named 'keras'"
     ]
    }
   ],
   "source": [
    "from keras.preprocessing.text import Tokenizer\n",
    "tokenizer = Tokenizer()\n",
    "tokenizer.fit_on_texts(sentences)\n",
    "print(tokenizer.word_index)"
   ]
  },
  {
   "cell_type": "code",
   "execution_count": null,
   "metadata": {},
   "outputs": [],
   "source": [
    "matrix = tokenizer.texts_to_matrix(sentences,mode='binary')\n",
    "print(matrix)"
   ]
  },
  {
   "cell_type": "code",
   "execution_count": null,
   "metadata": {},
   "outputs": [],
   "source": []
  }
 ],
 "metadata": {
  "kernelspec": {
   "display_name": "Python 3",
   "language": "python",
   "name": "python3"
  },
  "language_info": {
   "codemirror_mode": {
    "name": "ipython",
    "version": 3
   },
   "file_extension": ".py",
   "mimetype": "text/x-python",
   "name": "python",
   "nbconvert_exporter": "python",
   "pygments_lexer": "ipython3",
   "version": "3.7.3-final"
  }
 },
 "nbformat": 4,
 "nbformat_minor": 4
}